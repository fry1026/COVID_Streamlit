{
 "cells": [
  {
   "cell_type": "code",
   "execution_count": 27,
   "metadata": {
    "collapsed": true
   },
   "outputs": [
    {
     "name": "stdout",
     "output_type": "stream",
     "text": [
      "a - b\n",
      "c - d\n",
      "e - \n"
     ]
    }
   ],
   "source": [
    "l = {'a':'aa', 'b':'bb', 'c':'cc', 'd':'dd', 'e':'ee'}\n",
    "result = \"\"\n",
    "for counter, (key, value) in enumerate(l.items()):\n",
    "    if counter %2 == 0:\n",
    "        result+=f'{key} - '\n",
    "    else:\n",
    "        result+=f\"{key}\\n\"\n",
    "print(result)"
   ]
  }
 ],
 "metadata": {
  "kernelspec": {
   "display_name": "Python 3",
   "language": "python",
   "name": "python3"
  },
  "language_info": {
   "codemirror_mode": {
    "name": "ipython",
    "version": 2
   },
   "file_extension": ".py",
   "mimetype": "text/x-python",
   "name": "python",
   "nbconvert_exporter": "python",
   "pygments_lexer": "ipython2",
   "version": "2.7.6"
  }
 },
 "nbformat": 4,
 "nbformat_minor": 0
}