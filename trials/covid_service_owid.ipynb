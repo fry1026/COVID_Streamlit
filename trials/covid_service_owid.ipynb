{
 "cells": [
  {
   "cell_type": "code",
   "execution_count": 1,
   "metadata": {
    "collapsed": true
   },
   "outputs": [
    {
     "data": {
      "text/plain": "Index(['iso_code', 'continent', 'location', 'date', 'total_cases', 'new_cases',\n       'new_cases_smoothed', 'total_deaths', 'new_deaths',\n       'new_deaths_smoothed', 'total_cases_per_million',\n       'new_cases_per_million', 'new_cases_smoothed_per_million',\n       'total_deaths_per_million', 'new_deaths_per_million',\n       'new_deaths_smoothed_per_million', 'reproduction_rate', 'icu_patients',\n       'icu_patients_per_million', 'hosp_patients',\n       'hosp_patients_per_million', 'weekly_icu_admissions',\n       'weekly_icu_admissions_per_million', 'weekly_hosp_admissions',\n       'weekly_hosp_admissions_per_million', 'new_tests', 'total_tests',\n       'total_tests_per_thousand', 'new_tests_per_thousand',\n       'new_tests_smoothed', 'new_tests_smoothed_per_thousand',\n       'positive_rate', 'tests_per_case', 'tests_units', 'total_vaccinations',\n       'people_vaccinated', 'people_fully_vaccinated', 'total_boosters',\n       'new_vaccinations', 'new_vaccinations_smoothed',\n       'total_vaccinations_per_hundred', 'people_vaccinated_per_hundred',\n       'people_fully_vaccinated_per_hundred', 'total_boosters_per_hundred',\n       'new_vaccinations_smoothed_per_million',\n       'new_people_vaccinated_smoothed',\n       'new_people_vaccinated_smoothed_per_hundred', 'stringency_index',\n       'population', 'population_density', 'median_age', 'aged_65_older',\n       'aged_70_older', 'gdp_per_capita', 'extreme_poverty',\n       'cardiovasc_death_rate', 'diabetes_prevalence', 'female_smokers',\n       'male_smokers', 'handwashing_facilities', 'hospital_beds_per_thousand',\n       'life_expectancy', 'human_development_index',\n       'excess_mortality_cumulative_absolute', 'excess_mortality_cumulative',\n       'excess_mortality', 'excess_mortality_cumulative_per_million'],\n      dtype='object')"
     },
     "execution_count": 1,
     "metadata": {},
     "output_type": "execute_result"
    }
   ],
   "source": [
    "import pandas as pd\n",
    "URL = 'https://covid.ourworldindata.org/data/owid-covid-data.csv'\n",
    "df = pd.read_csv(URL)\n",
    "df.columns"
   ]
  },
  {
   "cell_type": "markdown",
   "source": [],
   "metadata": {
    "collapsed": false
   }
  },
  {
   "cell_type": "code",
   "execution_count": 11,
   "outputs": [
    {
     "data": {
      "text/plain": "['Africa',\n 'Asia',\n 'Europe',\n 'European Union',\n 'High income',\n 'International',\n 'Low income',\n 'Lower middle income',\n 'North America',\n 'Oceania',\n 'South America',\n 'Upper middle income',\n 'World']"
     },
     "execution_count": 11,
     "metadata": {},
     "output_type": "execute_result"
    }
   ],
   "source": [
    "df_world = df[df['location']=='World'].copy()\n",
    "df_continents = df[df['continent'].isna()==True].copy()\n",
    "list(df_continents.location.unique())"
   ],
   "metadata": {
    "collapsed": false,
    "pycharm": {
     "name": "#%%\n"
    }
   }
  },
  {
   "cell_type": "code",
   "execution_count": null,
   "outputs": [],
   "source": [],
   "metadata": {
    "collapsed": false,
    "pycharm": {
     "name": "#%%\n"
    }
   }
  },
  {
   "cell_type": "code",
   "execution_count": 12,
   "outputs": [
    {
     "data": {
      "text/plain": "['Africa',\n 'Asia',\n 'Europe',\n 'European Union',\n 'High income',\n 'International',\n 'Low income',\n 'Lower middle income',\n 'North America',\n 'Oceania',\n 'South America',\n 'Upper middle income',\n 'World']"
     },
     "execution_count": 12,
     "metadata": {},
     "output_type": "execute_result"
    }
   ],
   "source": [
    "continents = list(df[df['continent'].isna()==True].location.unique())\n",
    "continents"
   ],
   "metadata": {
    "collapsed": false,
    "pycharm": {
     "name": "#%%\n"
    }
   }
  },
  {
   "cell_type": "code",
   "execution_count": 20,
   "outputs": [
    {
     "data": {
      "text/plain": "        iso_code continent location        date  total_cases  new_cases  \\\n1328    OWID_AFR       NaN   Africa  2021-12-11    8896226.0    32924.0   \n1329    OWID_AFR       NaN   Africa  2021-12-12    8941513.0    45287.0   \n1330    OWID_AFR       NaN   Africa  2021-12-13    8958727.0    17214.0   \n1331    OWID_AFR       NaN   Africa  2021-12-14    8997648.0    38921.0   \n1332    OWID_AFR       NaN   Africa  2021-12-15    9041961.0    44313.0   \n...          ...       ...      ...         ...          ...        ...   \n139069  OWID_WRL       NaN    World  2021-12-11  269739121.0   488565.0   \n139070  OWID_WRL       NaN    World  2021-12-12  270159882.0   420761.0   \n139071  OWID_WRL       NaN    World  2021-12-13  270795523.0   635641.0   \n139072  OWID_WRL       NaN    World  2021-12-14  271469226.0   673703.0   \n139073  OWID_WRL       NaN    World  2021-12-15  272205417.0   736191.0   \n\n        new_cases_smoothed  total_deaths  new_deaths  new_deaths_smoothed  \\\n1328             24587.571      224299.0       154.0              127.000   \n1329             28964.143      224409.0       110.0              131.000   \n1330             29847.286      224485.0        76.0              121.429   \n1331             32542.429      224684.0       199.0              131.571   \n1332             34062.429      224830.0       146.0              129.571   \n...                    ...           ...         ...                  ...   \n139069          613910.286     5301760.0      5709.0             7558.429   \n139070          611636.429     5306078.0      4318.0             7151.429   \n139071          617638.286     5312553.0      6475.0             7073.286   \n139072          615150.000     5320822.0      8269.0             7084.857   \n139073          624439.429     5329879.0      9057.0             7239.571   \n\n        ...  handwashing_facilities  hospital_beds_per_thousand  \\\n1328    ...                     NaN                         NaN   \n1329    ...                     NaN                         NaN   \n1330    ...                     NaN                         NaN   \n1331    ...                     NaN                         NaN   \n1332    ...                     NaN                         NaN   \n...     ...                     ...                         ...   \n139069  ...                   60.13                       2.705   \n139070  ...                   60.13                       2.705   \n139071  ...                   60.13                       2.705   \n139072  ...                   60.13                       2.705   \n139073  ...                   60.13                       2.705   \n\n        life_expectancy  human_development_index  \\\n1328                NaN                      NaN   \n1329                NaN                      NaN   \n1330                NaN                      NaN   \n1331                NaN                      NaN   \n1332                NaN                      NaN   \n...                 ...                      ...   \n139069            72.58                    0.737   \n139070            72.58                    0.737   \n139071            72.58                    0.737   \n139072            72.58                    0.737   \n139073            72.58                    0.737   \n\n        excess_mortality_cumulative_absolute  excess_mortality_cumulative  \\\n1328                                     NaN                          NaN   \n1329                                     NaN                          NaN   \n1330                                     NaN                          NaN   \n1331                                     NaN                          NaN   \n1332                                     NaN                          NaN   \n...                                      ...                          ...   \n139069                                   NaN                          NaN   \n139070                                   NaN                          NaN   \n139071                                   NaN                          NaN   \n139072                                   NaN                          NaN   \n139073                                   NaN                          NaN   \n\n        excess_mortality  excess_mortality_cumulative_per_million  \\\n1328                 NaN                                      NaN   \n1329                 NaN                                      NaN   \n1330                 NaN                                      NaN   \n1331                 NaN                                      NaN   \n1332                 NaN                                      NaN   \n...                  ...                                      ...   \n139069               NaN                                      NaN   \n139070               NaN                                      NaN   \n139071               NaN                                      NaN   \n139072               NaN                                      NaN   \n139073               NaN                                      NaN   \n\n        Active_new_week  weekly_incidence_per_100k_pop  \n1328           172113.0                       0.012531  \n1329           202749.0                       0.014762  \n1330           208931.0                       0.015212  \n1331           227797.0                       0.016585  \n1332           238437.0                       0.017360  \n...                 ...                            ...  \n139069        4297372.0                       0.054570  \n139070        4281455.0                       0.054368  \n139071        4323468.0                       0.054901  \n139072        4306050.0                       0.054680  \n139073        4371076.0                       0.055506  \n\n[65 rows x 69 columns]",
      "text/html": "<div>\n<style scoped>\n    .dataframe tbody tr th:only-of-type {\n        vertical-align: middle;\n    }\n\n    .dataframe tbody tr th {\n        vertical-align: top;\n    }\n\n    .dataframe thead th {\n        text-align: right;\n    }\n</style>\n<table border=\"1\" class=\"dataframe\">\n  <thead>\n    <tr style=\"text-align: right;\">\n      <th></th>\n      <th>iso_code</th>\n      <th>continent</th>\n      <th>location</th>\n      <th>date</th>\n      <th>total_cases</th>\n      <th>new_cases</th>\n      <th>new_cases_smoothed</th>\n      <th>total_deaths</th>\n      <th>new_deaths</th>\n      <th>new_deaths_smoothed</th>\n      <th>...</th>\n      <th>handwashing_facilities</th>\n      <th>hospital_beds_per_thousand</th>\n      <th>life_expectancy</th>\n      <th>human_development_index</th>\n      <th>excess_mortality_cumulative_absolute</th>\n      <th>excess_mortality_cumulative</th>\n      <th>excess_mortality</th>\n      <th>excess_mortality_cumulative_per_million</th>\n      <th>Active_new_week</th>\n      <th>weekly_incidence_per_100k_pop</th>\n    </tr>\n  </thead>\n  <tbody>\n    <tr>\n      <th>1328</th>\n      <td>OWID_AFR</td>\n      <td>NaN</td>\n      <td>Africa</td>\n      <td>2021-12-11</td>\n      <td>8896226.0</td>\n      <td>32924.0</td>\n      <td>24587.571</td>\n      <td>224299.0</td>\n      <td>154.0</td>\n      <td>127.000</td>\n      <td>...</td>\n      <td>NaN</td>\n      <td>NaN</td>\n      <td>NaN</td>\n      <td>NaN</td>\n      <td>NaN</td>\n      <td>NaN</td>\n      <td>NaN</td>\n      <td>NaN</td>\n      <td>172113.0</td>\n      <td>0.012531</td>\n    </tr>\n    <tr>\n      <th>1329</th>\n      <td>OWID_AFR</td>\n      <td>NaN</td>\n      <td>Africa</td>\n      <td>2021-12-12</td>\n      <td>8941513.0</td>\n      <td>45287.0</td>\n      <td>28964.143</td>\n      <td>224409.0</td>\n      <td>110.0</td>\n      <td>131.000</td>\n      <td>...</td>\n      <td>NaN</td>\n      <td>NaN</td>\n      <td>NaN</td>\n      <td>NaN</td>\n      <td>NaN</td>\n      <td>NaN</td>\n      <td>NaN</td>\n      <td>NaN</td>\n      <td>202749.0</td>\n      <td>0.014762</td>\n    </tr>\n    <tr>\n      <th>1330</th>\n      <td>OWID_AFR</td>\n      <td>NaN</td>\n      <td>Africa</td>\n      <td>2021-12-13</td>\n      <td>8958727.0</td>\n      <td>17214.0</td>\n      <td>29847.286</td>\n      <td>224485.0</td>\n      <td>76.0</td>\n      <td>121.429</td>\n      <td>...</td>\n      <td>NaN</td>\n      <td>NaN</td>\n      <td>NaN</td>\n      <td>NaN</td>\n      <td>NaN</td>\n      <td>NaN</td>\n      <td>NaN</td>\n      <td>NaN</td>\n      <td>208931.0</td>\n      <td>0.015212</td>\n    </tr>\n    <tr>\n      <th>1331</th>\n      <td>OWID_AFR</td>\n      <td>NaN</td>\n      <td>Africa</td>\n      <td>2021-12-14</td>\n      <td>8997648.0</td>\n      <td>38921.0</td>\n      <td>32542.429</td>\n      <td>224684.0</td>\n      <td>199.0</td>\n      <td>131.571</td>\n      <td>...</td>\n      <td>NaN</td>\n      <td>NaN</td>\n      <td>NaN</td>\n      <td>NaN</td>\n      <td>NaN</td>\n      <td>NaN</td>\n      <td>NaN</td>\n      <td>NaN</td>\n      <td>227797.0</td>\n      <td>0.016585</td>\n    </tr>\n    <tr>\n      <th>1332</th>\n      <td>OWID_AFR</td>\n      <td>NaN</td>\n      <td>Africa</td>\n      <td>2021-12-15</td>\n      <td>9041961.0</td>\n      <td>44313.0</td>\n      <td>34062.429</td>\n      <td>224830.0</td>\n      <td>146.0</td>\n      <td>129.571</td>\n      <td>...</td>\n      <td>NaN</td>\n      <td>NaN</td>\n      <td>NaN</td>\n      <td>NaN</td>\n      <td>NaN</td>\n      <td>NaN</td>\n      <td>NaN</td>\n      <td>NaN</td>\n      <td>238437.0</td>\n      <td>0.017360</td>\n    </tr>\n    <tr>\n      <th>...</th>\n      <td>...</td>\n      <td>...</td>\n      <td>...</td>\n      <td>...</td>\n      <td>...</td>\n      <td>...</td>\n      <td>...</td>\n      <td>...</td>\n      <td>...</td>\n      <td>...</td>\n      <td>...</td>\n      <td>...</td>\n      <td>...</td>\n      <td>...</td>\n      <td>...</td>\n      <td>...</td>\n      <td>...</td>\n      <td>...</td>\n      <td>...</td>\n      <td>...</td>\n      <td>...</td>\n    </tr>\n    <tr>\n      <th>139069</th>\n      <td>OWID_WRL</td>\n      <td>NaN</td>\n      <td>World</td>\n      <td>2021-12-11</td>\n      <td>269739121.0</td>\n      <td>488565.0</td>\n      <td>613910.286</td>\n      <td>5301760.0</td>\n      <td>5709.0</td>\n      <td>7558.429</td>\n      <td>...</td>\n      <td>60.13</td>\n      <td>2.705</td>\n      <td>72.58</td>\n      <td>0.737</td>\n      <td>NaN</td>\n      <td>NaN</td>\n      <td>NaN</td>\n      <td>NaN</td>\n      <td>4297372.0</td>\n      <td>0.054570</td>\n    </tr>\n    <tr>\n      <th>139070</th>\n      <td>OWID_WRL</td>\n      <td>NaN</td>\n      <td>World</td>\n      <td>2021-12-12</td>\n      <td>270159882.0</td>\n      <td>420761.0</td>\n      <td>611636.429</td>\n      <td>5306078.0</td>\n      <td>4318.0</td>\n      <td>7151.429</td>\n      <td>...</td>\n      <td>60.13</td>\n      <td>2.705</td>\n      <td>72.58</td>\n      <td>0.737</td>\n      <td>NaN</td>\n      <td>NaN</td>\n      <td>NaN</td>\n      <td>NaN</td>\n      <td>4281455.0</td>\n      <td>0.054368</td>\n    </tr>\n    <tr>\n      <th>139071</th>\n      <td>OWID_WRL</td>\n      <td>NaN</td>\n      <td>World</td>\n      <td>2021-12-13</td>\n      <td>270795523.0</td>\n      <td>635641.0</td>\n      <td>617638.286</td>\n      <td>5312553.0</td>\n      <td>6475.0</td>\n      <td>7073.286</td>\n      <td>...</td>\n      <td>60.13</td>\n      <td>2.705</td>\n      <td>72.58</td>\n      <td>0.737</td>\n      <td>NaN</td>\n      <td>NaN</td>\n      <td>NaN</td>\n      <td>NaN</td>\n      <td>4323468.0</td>\n      <td>0.054901</td>\n    </tr>\n    <tr>\n      <th>139072</th>\n      <td>OWID_WRL</td>\n      <td>NaN</td>\n      <td>World</td>\n      <td>2021-12-14</td>\n      <td>271469226.0</td>\n      <td>673703.0</td>\n      <td>615150.000</td>\n      <td>5320822.0</td>\n      <td>8269.0</td>\n      <td>7084.857</td>\n      <td>...</td>\n      <td>60.13</td>\n      <td>2.705</td>\n      <td>72.58</td>\n      <td>0.737</td>\n      <td>NaN</td>\n      <td>NaN</td>\n      <td>NaN</td>\n      <td>NaN</td>\n      <td>4306050.0</td>\n      <td>0.054680</td>\n    </tr>\n    <tr>\n      <th>139073</th>\n      <td>OWID_WRL</td>\n      <td>NaN</td>\n      <td>World</td>\n      <td>2021-12-15</td>\n      <td>272205417.0</td>\n      <td>736191.0</td>\n      <td>624439.429</td>\n      <td>5329879.0</td>\n      <td>9057.0</td>\n      <td>7239.571</td>\n      <td>...</td>\n      <td>60.13</td>\n      <td>2.705</td>\n      <td>72.58</td>\n      <td>0.737</td>\n      <td>NaN</td>\n      <td>NaN</td>\n      <td>NaN</td>\n      <td>NaN</td>\n      <td>4371076.0</td>\n      <td>0.055506</td>\n    </tr>\n  </tbody>\n</table>\n<p>65 rows × 69 columns</p>\n</div>"
     },
     "execution_count": 20,
     "metadata": {},
     "output_type": "execute_result"
    }
   ],
   "source": [
    "df[(df['continent'].isna()) & (df.date > '2021-12-10')]"
   ],
   "metadata": {
    "collapsed": false,
    "pycharm": {
     "name": "#%%\n"
    }
   }
  },
  {
   "cell_type": "code",
   "execution_count": 12,
   "outputs": [
    {
     "data": {
      "text/plain": "       iso_code continent     location        date  total_cases  new_cases  \\\n0           AFG      Asia  Afghanistan  2020-02-24          5.0        5.0   \n1           AFG      Asia  Afghanistan  2020-02-25          5.0        0.0   \n2           AFG      Asia  Afghanistan  2020-02-26          5.0        0.0   \n3           AFG      Asia  Afghanistan  2020-02-27          5.0        0.0   \n4           AFG      Asia  Afghanistan  2020-02-28          5.0        0.0   \n...         ...       ...          ...         ...          ...        ...   \n140958      ZWE    Africa     Zimbabwe  2021-12-11     165002.0     9185.0   \n140959      ZWE    Africa     Zimbabwe  2021-12-12     167140.0     2138.0   \n140960      ZWE    Africa     Zimbabwe  2021-12-13     167140.0        0.0   \n140961      ZWE    Africa     Zimbabwe  2021-12-14     172012.0     4872.0   \n140962      ZWE    Africa     Zimbabwe  2021-12-15     177690.0     5678.0   \n\n        new_cases_smoothed  total_deaths  new_deaths  new_deaths_smoothed  \\\n0                      NaN           NaN         NaN                  NaN   \n1                      NaN           NaN         NaN                  NaN   \n2                      NaN           NaN         NaN                  NaN   \n3                      NaN           NaN         NaN                  NaN   \n4                      NaN           NaN         NaN                  NaN   \n...                    ...           ...         ...                  ...   \n140958            3782.714        4735.0        12.0                3.714   \n140959            4013.429        4738.0         3.0                4.000   \n140960            4013.429        4738.0         0.0                4.000   \n140961            4344.429        4740.0         2.0                3.857   \n140962            3866.000        4745.0         5.0                3.571   \n\n        ...  handwashing_facilities  hospital_beds_per_thousand  \\\n0       ...                  37.746                         0.5   \n1       ...                  37.746                         0.5   \n2       ...                  37.746                         0.5   \n3       ...                  37.746                         0.5   \n4       ...                  37.746                         0.5   \n...     ...                     ...                         ...   \n140958  ...                  36.791                         1.7   \n140959  ...                  36.791                         1.7   \n140960  ...                  36.791                         1.7   \n140961  ...                  36.791                         1.7   \n140962  ...                  36.791                         1.7   \n\n        life_expectancy  human_development_index  \\\n0                 64.83                    0.511   \n1                 64.83                    0.511   \n2                 64.83                    0.511   \n3                 64.83                    0.511   \n4                 64.83                    0.511   \n...                 ...                      ...   \n140958            61.49                    0.571   \n140959            61.49                    0.571   \n140960            61.49                    0.571   \n140961            61.49                    0.571   \n140962            61.49                    0.571   \n\n        excess_mortality_cumulative_absolute  excess_mortality_cumulative  \\\n0                                        NaN                          NaN   \n1                                        NaN                          NaN   \n2                                        NaN                          NaN   \n3                                        NaN                          NaN   \n4                                        NaN                          NaN   \n...                                      ...                          ...   \n140958                                   NaN                          NaN   \n140959                                   NaN                          NaN   \n140960                                   NaN                          NaN   \n140961                                   NaN                          NaN   \n140962                                   NaN                          NaN   \n\n        excess_mortality  excess_mortality_cumulative_per_million  \\\n0                    NaN                                      NaN   \n1                    NaN                                      NaN   \n2                    NaN                                      NaN   \n3                    NaN                                      NaN   \n4                    NaN                                      NaN   \n...                  ...                                      ...   \n140958               NaN                                      NaN   \n140959               NaN                                      NaN   \n140960               NaN                                      NaN   \n140961               NaN                                      NaN   \n140962               NaN                                      NaN   \n\n        Active_new_week  weekly_incidence_per_100k_pop  \n0                   0.0                       0.000000  \n1                   0.0                       0.000000  \n2                   0.0                       0.000000  \n3                   0.0                       0.000000  \n4                   0.0                       0.000000  \n...                 ...                            ...  \n140958          26479.0                       0.175449  \n140959          28094.0                       0.186149  \n140960          28094.0                       0.186149  \n140961          30411.0                       0.201502  \n140962          27062.0                       0.179312  \n\n[140963 rows x 69 columns]",
      "text/html": "<div>\n<style scoped>\n    .dataframe tbody tr th:only-of-type {\n        vertical-align: middle;\n    }\n\n    .dataframe tbody tr th {\n        vertical-align: top;\n    }\n\n    .dataframe thead th {\n        text-align: right;\n    }\n</style>\n<table border=\"1\" class=\"dataframe\">\n  <thead>\n    <tr style=\"text-align: right;\">\n      <th></th>\n      <th>iso_code</th>\n      <th>continent</th>\n      <th>location</th>\n      <th>date</th>\n      <th>total_cases</th>\n      <th>new_cases</th>\n      <th>new_cases_smoothed</th>\n      <th>total_deaths</th>\n      <th>new_deaths</th>\n      <th>new_deaths_smoothed</th>\n      <th>...</th>\n      <th>handwashing_facilities</th>\n      <th>hospital_beds_per_thousand</th>\n      <th>life_expectancy</th>\n      <th>human_development_index</th>\n      <th>excess_mortality_cumulative_absolute</th>\n      <th>excess_mortality_cumulative</th>\n      <th>excess_mortality</th>\n      <th>excess_mortality_cumulative_per_million</th>\n      <th>Active_new_week</th>\n      <th>weekly_incidence_per_100k_pop</th>\n    </tr>\n  </thead>\n  <tbody>\n    <tr>\n      <th>0</th>\n      <td>AFG</td>\n      <td>Asia</td>\n      <td>Afghanistan</td>\n      <td>2020-02-24</td>\n      <td>5.0</td>\n      <td>5.0</td>\n      <td>NaN</td>\n      <td>NaN</td>\n      <td>NaN</td>\n      <td>NaN</td>\n      <td>...</td>\n      <td>37.746</td>\n      <td>0.5</td>\n      <td>64.83</td>\n      <td>0.511</td>\n      <td>NaN</td>\n      <td>NaN</td>\n      <td>NaN</td>\n      <td>NaN</td>\n      <td>0.0</td>\n      <td>0.000000</td>\n    </tr>\n    <tr>\n      <th>1</th>\n      <td>AFG</td>\n      <td>Asia</td>\n      <td>Afghanistan</td>\n      <td>2020-02-25</td>\n      <td>5.0</td>\n      <td>0.0</td>\n      <td>NaN</td>\n      <td>NaN</td>\n      <td>NaN</td>\n      <td>NaN</td>\n      <td>...</td>\n      <td>37.746</td>\n      <td>0.5</td>\n      <td>64.83</td>\n      <td>0.511</td>\n      <td>NaN</td>\n      <td>NaN</td>\n      <td>NaN</td>\n      <td>NaN</td>\n      <td>0.0</td>\n      <td>0.000000</td>\n    </tr>\n    <tr>\n      <th>2</th>\n      <td>AFG</td>\n      <td>Asia</td>\n      <td>Afghanistan</td>\n      <td>2020-02-26</td>\n      <td>5.0</td>\n      <td>0.0</td>\n      <td>NaN</td>\n      <td>NaN</td>\n      <td>NaN</td>\n      <td>NaN</td>\n      <td>...</td>\n      <td>37.746</td>\n      <td>0.5</td>\n      <td>64.83</td>\n      <td>0.511</td>\n      <td>NaN</td>\n      <td>NaN</td>\n      <td>NaN</td>\n      <td>NaN</td>\n      <td>0.0</td>\n      <td>0.000000</td>\n    </tr>\n    <tr>\n      <th>3</th>\n      <td>AFG</td>\n      <td>Asia</td>\n      <td>Afghanistan</td>\n      <td>2020-02-27</td>\n      <td>5.0</td>\n      <td>0.0</td>\n      <td>NaN</td>\n      <td>NaN</td>\n      <td>NaN</td>\n      <td>NaN</td>\n      <td>...</td>\n      <td>37.746</td>\n      <td>0.5</td>\n      <td>64.83</td>\n      <td>0.511</td>\n      <td>NaN</td>\n      <td>NaN</td>\n      <td>NaN</td>\n      <td>NaN</td>\n      <td>0.0</td>\n      <td>0.000000</td>\n    </tr>\n    <tr>\n      <th>4</th>\n      <td>AFG</td>\n      <td>Asia</td>\n      <td>Afghanistan</td>\n      <td>2020-02-28</td>\n      <td>5.0</td>\n      <td>0.0</td>\n      <td>NaN</td>\n      <td>NaN</td>\n      <td>NaN</td>\n      <td>NaN</td>\n      <td>...</td>\n      <td>37.746</td>\n      <td>0.5</td>\n      <td>64.83</td>\n      <td>0.511</td>\n      <td>NaN</td>\n      <td>NaN</td>\n      <td>NaN</td>\n      <td>NaN</td>\n      <td>0.0</td>\n      <td>0.000000</td>\n    </tr>\n    <tr>\n      <th>...</th>\n      <td>...</td>\n      <td>...</td>\n      <td>...</td>\n      <td>...</td>\n      <td>...</td>\n      <td>...</td>\n      <td>...</td>\n      <td>...</td>\n      <td>...</td>\n      <td>...</td>\n      <td>...</td>\n      <td>...</td>\n      <td>...</td>\n      <td>...</td>\n      <td>...</td>\n      <td>...</td>\n      <td>...</td>\n      <td>...</td>\n      <td>...</td>\n      <td>...</td>\n      <td>...</td>\n    </tr>\n    <tr>\n      <th>140958</th>\n      <td>ZWE</td>\n      <td>Africa</td>\n      <td>Zimbabwe</td>\n      <td>2021-12-11</td>\n      <td>165002.0</td>\n      <td>9185.0</td>\n      <td>3782.714</td>\n      <td>4735.0</td>\n      <td>12.0</td>\n      <td>3.714</td>\n      <td>...</td>\n      <td>36.791</td>\n      <td>1.7</td>\n      <td>61.49</td>\n      <td>0.571</td>\n      <td>NaN</td>\n      <td>NaN</td>\n      <td>NaN</td>\n      <td>NaN</td>\n      <td>26479.0</td>\n      <td>0.175449</td>\n    </tr>\n    <tr>\n      <th>140959</th>\n      <td>ZWE</td>\n      <td>Africa</td>\n      <td>Zimbabwe</td>\n      <td>2021-12-12</td>\n      <td>167140.0</td>\n      <td>2138.0</td>\n      <td>4013.429</td>\n      <td>4738.0</td>\n      <td>3.0</td>\n      <td>4.000</td>\n      <td>...</td>\n      <td>36.791</td>\n      <td>1.7</td>\n      <td>61.49</td>\n      <td>0.571</td>\n      <td>NaN</td>\n      <td>NaN</td>\n      <td>NaN</td>\n      <td>NaN</td>\n      <td>28094.0</td>\n      <td>0.186149</td>\n    </tr>\n    <tr>\n      <th>140960</th>\n      <td>ZWE</td>\n      <td>Africa</td>\n      <td>Zimbabwe</td>\n      <td>2021-12-13</td>\n      <td>167140.0</td>\n      <td>0.0</td>\n      <td>4013.429</td>\n      <td>4738.0</td>\n      <td>0.0</td>\n      <td>4.000</td>\n      <td>...</td>\n      <td>36.791</td>\n      <td>1.7</td>\n      <td>61.49</td>\n      <td>0.571</td>\n      <td>NaN</td>\n      <td>NaN</td>\n      <td>NaN</td>\n      <td>NaN</td>\n      <td>28094.0</td>\n      <td>0.186149</td>\n    </tr>\n    <tr>\n      <th>140961</th>\n      <td>ZWE</td>\n      <td>Africa</td>\n      <td>Zimbabwe</td>\n      <td>2021-12-14</td>\n      <td>172012.0</td>\n      <td>4872.0</td>\n      <td>4344.429</td>\n      <td>4740.0</td>\n      <td>2.0</td>\n      <td>3.857</td>\n      <td>...</td>\n      <td>36.791</td>\n      <td>1.7</td>\n      <td>61.49</td>\n      <td>0.571</td>\n      <td>NaN</td>\n      <td>NaN</td>\n      <td>NaN</td>\n      <td>NaN</td>\n      <td>30411.0</td>\n      <td>0.201502</td>\n    </tr>\n    <tr>\n      <th>140962</th>\n      <td>ZWE</td>\n      <td>Africa</td>\n      <td>Zimbabwe</td>\n      <td>2021-12-15</td>\n      <td>177690.0</td>\n      <td>5678.0</td>\n      <td>3866.000</td>\n      <td>4745.0</td>\n      <td>5.0</td>\n      <td>3.571</td>\n      <td>...</td>\n      <td>36.791</td>\n      <td>1.7</td>\n      <td>61.49</td>\n      <td>0.571</td>\n      <td>NaN</td>\n      <td>NaN</td>\n      <td>NaN</td>\n      <td>NaN</td>\n      <td>27062.0</td>\n      <td>0.179312</td>\n    </tr>\n  </tbody>\n</table>\n<p>140963 rows × 69 columns</p>\n</div>"
     },
     "execution_count": 12,
     "metadata": {},
     "output_type": "execute_result"
    }
   ],
   "source": [
    "df['Active_new_week'] = df.groupby('location')['new_cases'].transform(lambda x: x.rolling(window=7).sum().fillna(0))\n",
    "df['weekly_incidence_per_100k_pop'] = df.Active_new_week / df.population * 100\n",
    "df.fillna({'weekly_incidence_per_100k_pop': 0}, inplace=True)\n",
    "df"
   ],
   "metadata": {
    "collapsed": false,
    "pycharm": {
     "name": "#%%\n"
    }
   }
  }
 ],
 "metadata": {
  "kernelspec": {
   "display_name": "Python 3",
   "language": "python",
   "name": "python3"
  },
  "language_info": {
   "codemirror_mode": {
    "name": "ipython",
    "version": 2
   },
   "file_extension": ".py",
   "mimetype": "text/x-python",
   "name": "python",
   "nbconvert_exporter": "python",
   "pygments_lexer": "ipython2",
   "version": "2.7.6"
  }
 },
 "nbformat": 4,
 "nbformat_minor": 0
}