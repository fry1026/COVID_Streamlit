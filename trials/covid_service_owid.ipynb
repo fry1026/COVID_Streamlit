{
 "cells": [
  {
   "cell_type": "code",
   "execution_count": 1,
   "metadata": {
    "collapsed": true
   },
   "outputs": [
    {
     "data": {
      "text/plain": "Index(['iso_code', 'continent', 'location', 'date', 'total_cases', 'new_cases',\n       'new_cases_smoothed', 'total_deaths', 'new_deaths',\n       'new_deaths_smoothed', 'total_cases_per_million',\n       'new_cases_per_million', 'new_cases_smoothed_per_million',\n       'total_deaths_per_million', 'new_deaths_per_million',\n       'new_deaths_smoothed_per_million', 'reproduction_rate', 'icu_patients',\n       'icu_patients_per_million', 'hosp_patients',\n       'hosp_patients_per_million', 'weekly_icu_admissions',\n       'weekly_icu_admissions_per_million', 'weekly_hosp_admissions',\n       'weekly_hosp_admissions_per_million', 'new_tests', 'total_tests',\n       'total_tests_per_thousand', 'new_tests_per_thousand',\n       'new_tests_smoothed', 'new_tests_smoothed_per_thousand',\n       'positive_rate', 'tests_per_case', 'tests_units', 'total_vaccinations',\n       'people_vaccinated', 'people_fully_vaccinated', 'total_boosters',\n       'new_vaccinations', 'new_vaccinations_smoothed',\n       'total_vaccinations_per_hundred', 'people_vaccinated_per_hundred',\n       'people_fully_vaccinated_per_hundred', 'total_boosters_per_hundred',\n       'new_vaccinations_smoothed_per_million',\n       'new_people_vaccinated_smoothed',\n       'new_people_vaccinated_smoothed_per_hundred', 'stringency_index',\n       'population', 'population_density', 'median_age', 'aged_65_older',\n       'aged_70_older', 'gdp_per_capita', 'extreme_poverty',\n       'cardiovasc_death_rate', 'diabetes_prevalence', 'female_smokers',\n       'male_smokers', 'handwashing_facilities', 'hospital_beds_per_thousand',\n       'life_expectancy', 'human_development_index',\n       'excess_mortality_cumulative_absolute', 'excess_mortality_cumulative',\n       'excess_mortality', 'excess_mortality_cumulative_per_million'],\n      dtype='object')"
     },
     "execution_count": 1,
     "metadata": {},
     "output_type": "execute_result"
    }
   ],
   "source": [
    "import pandas as pd\n",
    "URL = 'https://covid.ourworldindata.org/data/owid-covid-data.csv'\n",
    "df = pd.read_csv(URL)\n",
    "df.columns"
   ]
  },
  {
   "cell_type": "markdown",
   "source": [],
   "metadata": {
    "collapsed": false
   }
  },
  {
   "cell_type": "code",
   "execution_count": 2,
   "outputs": [
    {
     "data": {
      "text/plain": "['Africa',\n 'Asia',\n 'Europe',\n 'European Union',\n 'High income',\n 'International',\n 'Low income',\n 'Lower middle income',\n 'North America',\n 'Oceania',\n 'South America',\n 'Upper middle income',\n 'World']"
     },
     "execution_count": 2,
     "metadata": {},
     "output_type": "execute_result"
    }
   ],
   "source": [
    "continents = list(df[df['continent'].isna()==True].location.unique())\n",
    "continents"
   ],
   "metadata": {
    "collapsed": false,
    "pycharm": {
     "name": "#%%\n"
    }
   }
  },
  {
   "cell_type": "code",
   "execution_count": 3,
   "outputs": [
    {
     "data": {
      "text/plain": "        iso_code continent location        date  total_cases  new_cases  \\\n1331    OWID_AFR       NaN   Africa  2021-12-11    8896230.0    32924.0   \n1332    OWID_AFR       NaN   Africa  2021-12-12    8941517.0    45287.0   \n1333    OWID_AFR       NaN   Africa  2021-12-13    8958731.0    17214.0   \n1334    OWID_AFR       NaN   Africa  2021-12-14    8997652.0    38921.0   \n1335    OWID_AFR       NaN   Africa  2021-12-15    9041965.0    44313.0   \n...          ...       ...      ...         ...          ...        ...   \n146431  OWID_WRL       NaN    World  2021-12-14  271469226.0   673703.0   \n146432  OWID_WRL       NaN    World  2021-12-15  272205417.0   736191.0   \n146433  OWID_WRL       NaN    World  2021-12-16  272958286.0   752869.0   \n146434  OWID_WRL       NaN    World  2021-12-17  273668314.0   710028.0   \n146435  OWID_WRL       NaN    World  2021-12-18  274213886.0   545572.0   \n\n        new_cases_smoothed  total_deaths  new_deaths  new_deaths_smoothed  \\\n1331             24587.571      224299.0       154.0              127.000   \n1332             28964.143      224409.0       110.0              131.000   \n1333             29847.286      224485.0        76.0              121.429   \n1334             32542.429      224684.0       199.0              131.571   \n1335             34062.429      224830.0       146.0              129.571   \n...                    ...           ...         ...                  ...   \n146431          615150.000     5320822.0      8269.0             7084.857   \n146432          624439.429     5329879.0      9057.0             7239.571   \n146433          628526.857     5337172.0      7293.0             7038.571   \n146434          631108.286     5344177.0      7005.0             6875.143   \n146435          639252.143     5349699.0      5522.0             6848.429   \n\n        ...  female_smokers  male_smokers  handwashing_facilities  \\\n1331    ...             NaN           NaN                     NaN   \n1332    ...             NaN           NaN                     NaN   \n1333    ...             NaN           NaN                     NaN   \n1334    ...             NaN           NaN                     NaN   \n1335    ...             NaN           NaN                     NaN   \n...     ...             ...           ...                     ...   \n146431  ...           6.434        34.635                   60.13   \n146432  ...           6.434        34.635                   60.13   \n146433  ...           6.434        34.635                   60.13   \n146434  ...           6.434        34.635                   60.13   \n146435  ...           6.434        34.635                   60.13   \n\n        hospital_beds_per_thousand  life_expectancy  human_development_index  \\\n1331                           NaN              NaN                      NaN   \n1332                           NaN              NaN                      NaN   \n1333                           NaN              NaN                      NaN   \n1334                           NaN              NaN                      NaN   \n1335                           NaN              NaN                      NaN   \n...                            ...              ...                      ...   \n146431                       2.705            72.58                    0.737   \n146432                       2.705            72.58                    0.737   \n146433                       2.705            72.58                    0.737   \n146434                       2.705            72.58                    0.737   \n146435                       2.705            72.58                    0.737   \n\n        excess_mortality_cumulative_absolute  excess_mortality_cumulative  \\\n1331                                     NaN                          NaN   \n1332                                     NaN                          NaN   \n1333                                     NaN                          NaN   \n1334                                     NaN                          NaN   \n1335                                     NaN                          NaN   \n...                                      ...                          ...   \n146431                                   NaN                          NaN   \n146432                                   NaN                          NaN   \n146433                                   NaN                          NaN   \n146434                                   NaN                          NaN   \n146435                                   NaN                          NaN   \n\n        excess_mortality  excess_mortality_cumulative_per_million  \n1331                 NaN                                      NaN  \n1332                 NaN                                      NaN  \n1333                 NaN                                      NaN  \n1334                 NaN                                      NaN  \n1335                 NaN                                      NaN  \n...                  ...                                      ...  \n146431               NaN                                      NaN  \n146432               NaN                                      NaN  \n146433               NaN                                      NaN  \n146434               NaN                                      NaN  \n146435               NaN                                      NaN  \n\n[104 rows x 67 columns]",
      "text/html": "<div>\n<style scoped>\n    .dataframe tbody tr th:only-of-type {\n        vertical-align: middle;\n    }\n\n    .dataframe tbody tr th {\n        vertical-align: top;\n    }\n\n    .dataframe thead th {\n        text-align: right;\n    }\n</style>\n<table border=\"1\" class=\"dataframe\">\n  <thead>\n    <tr style=\"text-align: right;\">\n      <th></th>\n      <th>iso_code</th>\n      <th>continent</th>\n      <th>location</th>\n      <th>date</th>\n      <th>total_cases</th>\n      <th>new_cases</th>\n      <th>new_cases_smoothed</th>\n      <th>total_deaths</th>\n      <th>new_deaths</th>\n      <th>new_deaths_smoothed</th>\n      <th>...</th>\n      <th>female_smokers</th>\n      <th>male_smokers</th>\n      <th>handwashing_facilities</th>\n      <th>hospital_beds_per_thousand</th>\n      <th>life_expectancy</th>\n      <th>human_development_index</th>\n      <th>excess_mortality_cumulative_absolute</th>\n      <th>excess_mortality_cumulative</th>\n      <th>excess_mortality</th>\n      <th>excess_mortality_cumulative_per_million</th>\n    </tr>\n  </thead>\n  <tbody>\n    <tr>\n      <th>1331</th>\n      <td>OWID_AFR</td>\n      <td>NaN</td>\n      <td>Africa</td>\n      <td>2021-12-11</td>\n      <td>8896230.0</td>\n      <td>32924.0</td>\n      <td>24587.571</td>\n      <td>224299.0</td>\n      <td>154.0</td>\n      <td>127.000</td>\n      <td>...</td>\n      <td>NaN</td>\n      <td>NaN</td>\n      <td>NaN</td>\n      <td>NaN</td>\n      <td>NaN</td>\n      <td>NaN</td>\n      <td>NaN</td>\n      <td>NaN</td>\n      <td>NaN</td>\n      <td>NaN</td>\n    </tr>\n    <tr>\n      <th>1332</th>\n      <td>OWID_AFR</td>\n      <td>NaN</td>\n      <td>Africa</td>\n      <td>2021-12-12</td>\n      <td>8941517.0</td>\n      <td>45287.0</td>\n      <td>28964.143</td>\n      <td>224409.0</td>\n      <td>110.0</td>\n      <td>131.000</td>\n      <td>...</td>\n      <td>NaN</td>\n      <td>NaN</td>\n      <td>NaN</td>\n      <td>NaN</td>\n      <td>NaN</td>\n      <td>NaN</td>\n      <td>NaN</td>\n      <td>NaN</td>\n      <td>NaN</td>\n      <td>NaN</td>\n    </tr>\n    <tr>\n      <th>1333</th>\n      <td>OWID_AFR</td>\n      <td>NaN</td>\n      <td>Africa</td>\n      <td>2021-12-13</td>\n      <td>8958731.0</td>\n      <td>17214.0</td>\n      <td>29847.286</td>\n      <td>224485.0</td>\n      <td>76.0</td>\n      <td>121.429</td>\n      <td>...</td>\n      <td>NaN</td>\n      <td>NaN</td>\n      <td>NaN</td>\n      <td>NaN</td>\n      <td>NaN</td>\n      <td>NaN</td>\n      <td>NaN</td>\n      <td>NaN</td>\n      <td>NaN</td>\n      <td>NaN</td>\n    </tr>\n    <tr>\n      <th>1334</th>\n      <td>OWID_AFR</td>\n      <td>NaN</td>\n      <td>Africa</td>\n      <td>2021-12-14</td>\n      <td>8997652.0</td>\n      <td>38921.0</td>\n      <td>32542.429</td>\n      <td>224684.0</td>\n      <td>199.0</td>\n      <td>131.571</td>\n      <td>...</td>\n      <td>NaN</td>\n      <td>NaN</td>\n      <td>NaN</td>\n      <td>NaN</td>\n      <td>NaN</td>\n      <td>NaN</td>\n      <td>NaN</td>\n      <td>NaN</td>\n      <td>NaN</td>\n      <td>NaN</td>\n    </tr>\n    <tr>\n      <th>1335</th>\n      <td>OWID_AFR</td>\n      <td>NaN</td>\n      <td>Africa</td>\n      <td>2021-12-15</td>\n      <td>9041965.0</td>\n      <td>44313.0</td>\n      <td>34062.429</td>\n      <td>224830.0</td>\n      <td>146.0</td>\n      <td>129.571</td>\n      <td>...</td>\n      <td>NaN</td>\n      <td>NaN</td>\n      <td>NaN</td>\n      <td>NaN</td>\n      <td>NaN</td>\n      <td>NaN</td>\n      <td>NaN</td>\n      <td>NaN</td>\n      <td>NaN</td>\n      <td>NaN</td>\n    </tr>\n    <tr>\n      <th>...</th>\n      <td>...</td>\n      <td>...</td>\n      <td>...</td>\n      <td>...</td>\n      <td>...</td>\n      <td>...</td>\n      <td>...</td>\n      <td>...</td>\n      <td>...</td>\n      <td>...</td>\n      <td>...</td>\n      <td>...</td>\n      <td>...</td>\n      <td>...</td>\n      <td>...</td>\n      <td>...</td>\n      <td>...</td>\n      <td>...</td>\n      <td>...</td>\n      <td>...</td>\n      <td>...</td>\n    </tr>\n    <tr>\n      <th>146431</th>\n      <td>OWID_WRL</td>\n      <td>NaN</td>\n      <td>World</td>\n      <td>2021-12-14</td>\n      <td>271469226.0</td>\n      <td>673703.0</td>\n      <td>615150.000</td>\n      <td>5320822.0</td>\n      <td>8269.0</td>\n      <td>7084.857</td>\n      <td>...</td>\n      <td>6.434</td>\n      <td>34.635</td>\n      <td>60.13</td>\n      <td>2.705</td>\n      <td>72.58</td>\n      <td>0.737</td>\n      <td>NaN</td>\n      <td>NaN</td>\n      <td>NaN</td>\n      <td>NaN</td>\n    </tr>\n    <tr>\n      <th>146432</th>\n      <td>OWID_WRL</td>\n      <td>NaN</td>\n      <td>World</td>\n      <td>2021-12-15</td>\n      <td>272205417.0</td>\n      <td>736191.0</td>\n      <td>624439.429</td>\n      <td>5329879.0</td>\n      <td>9057.0</td>\n      <td>7239.571</td>\n      <td>...</td>\n      <td>6.434</td>\n      <td>34.635</td>\n      <td>60.13</td>\n      <td>2.705</td>\n      <td>72.58</td>\n      <td>0.737</td>\n      <td>NaN</td>\n      <td>NaN</td>\n      <td>NaN</td>\n      <td>NaN</td>\n    </tr>\n    <tr>\n      <th>146433</th>\n      <td>OWID_WRL</td>\n      <td>NaN</td>\n      <td>World</td>\n      <td>2021-12-16</td>\n      <td>272958286.0</td>\n      <td>752869.0</td>\n      <td>628526.857</td>\n      <td>5337172.0</td>\n      <td>7293.0</td>\n      <td>7038.571</td>\n      <td>...</td>\n      <td>6.434</td>\n      <td>34.635</td>\n      <td>60.13</td>\n      <td>2.705</td>\n      <td>72.58</td>\n      <td>0.737</td>\n      <td>NaN</td>\n      <td>NaN</td>\n      <td>NaN</td>\n      <td>NaN</td>\n    </tr>\n    <tr>\n      <th>146434</th>\n      <td>OWID_WRL</td>\n      <td>NaN</td>\n      <td>World</td>\n      <td>2021-12-17</td>\n      <td>273668314.0</td>\n      <td>710028.0</td>\n      <td>631108.286</td>\n      <td>5344177.0</td>\n      <td>7005.0</td>\n      <td>6875.143</td>\n      <td>...</td>\n      <td>6.434</td>\n      <td>34.635</td>\n      <td>60.13</td>\n      <td>2.705</td>\n      <td>72.58</td>\n      <td>0.737</td>\n      <td>NaN</td>\n      <td>NaN</td>\n      <td>NaN</td>\n      <td>NaN</td>\n    </tr>\n    <tr>\n      <th>146435</th>\n      <td>OWID_WRL</td>\n      <td>NaN</td>\n      <td>World</td>\n      <td>2021-12-18</td>\n      <td>274213886.0</td>\n      <td>545572.0</td>\n      <td>639252.143</td>\n      <td>5349699.0</td>\n      <td>5522.0</td>\n      <td>6848.429</td>\n      <td>...</td>\n      <td>6.434</td>\n      <td>34.635</td>\n      <td>60.13</td>\n      <td>2.705</td>\n      <td>72.58</td>\n      <td>0.737</td>\n      <td>NaN</td>\n      <td>NaN</td>\n      <td>NaN</td>\n      <td>NaN</td>\n    </tr>\n  </tbody>\n</table>\n<p>104 rows × 67 columns</p>\n</div>"
     },
     "execution_count": 3,
     "metadata": {},
     "output_type": "execute_result"
    }
   ],
   "source": [
    "df[(df['continent'].isna()) & (df.date > '2021-12-10')]"
   ],
   "metadata": {
    "collapsed": false,
    "pycharm": {
     "name": "#%%\n"
    }
   }
  },
  {
   "cell_type": "code",
   "execution_count": 10,
   "outputs": [
    {
     "data": {
      "text/plain": "        population     location\n0       39835428.0  Afghanistan\n1       39835428.0  Afghanistan\n2       39835428.0  Afghanistan\n3       39835428.0  Afghanistan\n4       39835428.0  Afghanistan\n...            ...          ...\n148329  15092171.0     Zimbabwe\n148330  15092171.0     Zimbabwe\n148331  15092171.0     Zimbabwe\n148332  15092171.0     Zimbabwe\n148333  15092171.0     Zimbabwe\n\n[148334 rows x 2 columns]",
      "text/html": "<div>\n<style scoped>\n    .dataframe tbody tr th:only-of-type {\n        vertical-align: middle;\n    }\n\n    .dataframe tbody tr th {\n        vertical-align: top;\n    }\n\n    .dataframe thead th {\n        text-align: right;\n    }\n</style>\n<table border=\"1\" class=\"dataframe\">\n  <thead>\n    <tr style=\"text-align: right;\">\n      <th></th>\n      <th>population</th>\n      <th>location</th>\n    </tr>\n  </thead>\n  <tbody>\n    <tr>\n      <th>0</th>\n      <td>39835428.0</td>\n      <td>Afghanistan</td>\n    </tr>\n    <tr>\n      <th>1</th>\n      <td>39835428.0</td>\n      <td>Afghanistan</td>\n    </tr>\n    <tr>\n      <th>2</th>\n      <td>39835428.0</td>\n      <td>Afghanistan</td>\n    </tr>\n    <tr>\n      <th>3</th>\n      <td>39835428.0</td>\n      <td>Afghanistan</td>\n    </tr>\n    <tr>\n      <th>4</th>\n      <td>39835428.0</td>\n      <td>Afghanistan</td>\n    </tr>\n    <tr>\n      <th>...</th>\n      <td>...</td>\n      <td>...</td>\n    </tr>\n    <tr>\n      <th>148329</th>\n      <td>15092171.0</td>\n      <td>Zimbabwe</td>\n    </tr>\n    <tr>\n      <th>148330</th>\n      <td>15092171.0</td>\n      <td>Zimbabwe</td>\n    </tr>\n    <tr>\n      <th>148331</th>\n      <td>15092171.0</td>\n      <td>Zimbabwe</td>\n    </tr>\n    <tr>\n      <th>148332</th>\n      <td>15092171.0</td>\n      <td>Zimbabwe</td>\n    </tr>\n    <tr>\n      <th>148333</th>\n      <td>15092171.0</td>\n      <td>Zimbabwe</td>\n    </tr>\n  </tbody>\n</table>\n<p>148334 rows × 2 columns</p>\n</div>"
     },
     "execution_count": 10,
     "metadata": {},
     "output_type": "execute_result"
    }
   ],
   "source": [
    "df['Active_new_week'] = df.groupby('location')['new_cases'].transform(lambda x: x.rolling(window=7).sum().fillna(0))\n",
    "df['weekly_incidence_per_100k_pop'] = df.Active_new_week / df.population * 100\n",
    "df.fillna({'weekly_incidence_per_100k_pop': 0}, inplace=True)\n",
    "df[['population', 'location']]"
   ],
   "metadata": {
    "collapsed": false,
    "pycharm": {
     "name": "#%%\n"
    }
   }
  },
  {
   "cell_type": "code",
   "execution_count": 8,
   "outputs": [
    {
     "name": "stdout",
     "output_type": "stream",
     "text": [
      "<class 'pandas.core.frame.DataFrame'>\n",
      "RangeIndex: 148334 entries, 0 to 148333\n",
      "Data columns (total 70 columns):\n",
      " #   Column                                      Non-Null Count   Dtype   \n",
      "---  ------                                      --------------   -----   \n",
      " 0   iso_code                                    148334 non-null  object  \n",
      " 1   continent                                   139379 non-null  object  \n",
      " 2   location                                    148334 non-null  object  \n",
      " 3   date                                        148334 non-null  object  \n",
      " 4   total_cases                                 145734 non-null  float64 \n",
      " 5   new_cases                                   145728 non-null  float64 \n",
      " 6   new_cases_smoothed                          144583 non-null  float64 \n",
      " 7   total_deaths                                128772 non-null  float64 \n",
      " 8   new_deaths                                  128968 non-null  float64 \n",
      " 9   new_deaths_smoothed                         144583 non-null  float64 \n",
      " 10  total_cases_per_million                     145053 non-null  float64 \n",
      " 11  new_cases_per_million                       145047 non-null  float64 \n",
      " 12  new_cases_smoothed_per_million              143907 non-null  float64 \n",
      " 13  total_deaths_per_million                    128104 non-null  float64 \n",
      " 14  new_deaths_per_million                      128300 non-null  float64 \n",
      " 15  new_deaths_smoothed_per_million             143907 non-null  float64 \n",
      " 16  reproduction_rate                           111455 non-null  float64 \n",
      " 17  icu_patients                                17283 non-null   float64 \n",
      " 18  icu_patients_per_million                    17283 non-null   float64 \n",
      " 19  hosp_patients                               19742 non-null   float64 \n",
      " 20  hosp_patients_per_million                   19742 non-null   float64 \n",
      " 21  weekly_icu_admissions                       1344 non-null    float64 \n",
      " 22  weekly_icu_admissions_per_million           1344 non-null    float64 \n",
      " 23  weekly_hosp_admissions                      2236 non-null    float64 \n",
      " 24  weekly_hosp_admissions_per_million          2236 non-null    float64 \n",
      " 25  new_tests                                   59029 non-null   float64 \n",
      " 26  total_tests                                 59184 non-null   float64 \n",
      " 27  total_tests_per_thousand                    59184 non-null   float64 \n",
      " 28  new_tests_per_thousand                      59029 non-null   float64 \n",
      " 29  new_tests_smoothed                          71852 non-null   float64 \n",
      " 30  new_tests_smoothed_per_thousand             71173 non-null   float64 \n",
      " 31  positive_rate                               67063 non-null   float64 \n",
      " 32  tests_per_case                              66401 non-null   float64 \n",
      " 33  tests_units                                 73282 non-null   object  \n",
      " 34  total_vaccinations                          37211 non-null   float64 \n",
      " 35  people_vaccinated                           35698 non-null   float64 \n",
      " 36  people_fully_vaccinated                     32716 non-null   float64 \n",
      " 37  total_boosters                              10190 non-null   float64 \n",
      " 38  new_vaccinations                            30832 non-null   float64 \n",
      " 39  new_vaccinations_smoothed                   67331 non-null   float64 \n",
      " 40  total_vaccinations_per_hundred              37211 non-null   float64 \n",
      " 41  people_vaccinated_per_hundred               35698 non-null   float64 \n",
      " 42  people_fully_vaccinated_per_hundred         32716 non-null   float64 \n",
      " 43  total_boosters_per_hundred                  10190 non-null   float64 \n",
      " 44  new_vaccinations_smoothed_per_million       67331 non-null   float64 \n",
      " 45  new_people_vaccinated_smoothed              66193 non-null   float64 \n",
      " 46  new_people_vaccinated_smoothed_per_hundred  66193 non-null   float64 \n",
      " 47  stringency_index                            116219 non-null  float64 \n",
      " 48  population                                  147336 non-null  float64 \n",
      " 49  population_density                          132051 non-null  float64 \n",
      " 50  median_age                                  123249 non-null  float64 \n",
      " 51  aged_65_older                               121909 non-null  float64 \n",
      " 52  aged_70_older                               122587 non-null  float64 \n",
      " 53  gdp_per_capita                              123628 non-null  float64 \n",
      " 54  extreme_poverty                             81634 non-null   float64 \n",
      " 55  cardiovasc_death_rate                       122273 non-null  float64 \n",
      " 56  diabetes_prevalence                         128534 non-null  float64 \n",
      " 57  female_smokers                              94715 non-null   float64 \n",
      " 58  male_smokers                                93349 non-null   float64 \n",
      " 59  handwashing_facilities                      61228 non-null   float64 \n",
      " 60  hospital_beds_per_thousand                  110482 non-null  float64 \n",
      " 61  life_expectancy                             138430 non-null  float64 \n",
      " 62  human_development_index                     121748 non-null  float64 \n",
      " 63  excess_mortality_cumulative_absolute        5050 non-null    float64 \n",
      " 64  excess_mortality_cumulative                 5050 non-null    float64 \n",
      " 65  excess_mortality                            5050 non-null    float64 \n",
      " 66  excess_mortality_cumulative_per_million     5050 non-null    float64 \n",
      " 67  Active_new_week                             148334 non-null  float64 \n",
      " 68  weekly_incidence_per_100k_pop               148334 non-null  float64 \n",
      " 69  country_size                                58115 non-null   category\n",
      "dtypes: category(1), float64(64), object(5)\n",
      "memory usage: 78.2+ MB\n"
     ]
    }
   ],
   "source": [
    "population_bins = [0, 1e3, 1e4, 5e4, 1e5, 5e5, 5e6]\n",
    "population_labels = ['Very small', 'Small', 'Medium', 'Large', 'Very Large', 'Extra Large']\n",
    "df['country_size'] = pd.cut(df['population'], bins=population_bins, labels=population_labels)\n",
    "df.info()"
   ],
   "metadata": {
    "collapsed": false,
    "pycharm": {
     "name": "#%%\n"
    }
   }
  }
 ],
 "metadata": {
  "kernelspec": {
   "display_name": "Python 3",
   "language": "python",
   "name": "python3"
  },
  "language_info": {
   "codemirror_mode": {
    "name": "ipython",
    "version": 2
   },
   "file_extension": ".py",
   "mimetype": "text/x-python",
   "name": "python",
   "nbconvert_exporter": "python",
   "pygments_lexer": "ipython2",
   "version": "2.7.6"
  }
 },
 "nbformat": 4,
 "nbformat_minor": 0
}